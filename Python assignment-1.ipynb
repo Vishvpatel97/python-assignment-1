{
 "cells": [
  {
   "cell_type": "markdown",
   "metadata": {},
   "source": [
    "1. Write a program which will find all such numbers which are divisible by 7 but are not a\n",
    "multiple of 5, between 2000 and 3200 (both included). The numbers obtained should be printed in a comma-separated sequence on a single line."
   ]
  },
  {
   "cell_type": "markdown",
   "metadata": {},
   "source": [
    "Answer: Here, the task is to develope a program to find numbers which are divisible by 7 but are not a multiple of 5 between 2000 and 3200 both included. So, for this fist a list of numbers from 2000 to 3200 was generated in \"i\" with the help of range function. And then, with the help of for loop and if statements the numbers in the list \"i\" were sorted and appended in another empty list \"m\". The numbers which were appended in the list \"m\" were sorted with if statements which were divisible by 7 but were not divisible by 5. "
   ]
  },
  {
   "cell_type": "code",
   "execution_count": 128,
   "metadata": {},
   "outputs": [],
   "source": [
    "i = list(range(2000, 3201,1)) #making list of numbers from 2000 to 3200 in list \"i\""
   ]
  },
  {
   "cell_type": "code",
   "execution_count": 129,
   "metadata": {},
   "outputs": [],
   "source": [
    "m = [] #making an empty list \"m\" to store numbers which are divisible by 7 but not by 5"
   ]
  },
  {
   "cell_type": "code",
   "execution_count": 130,
   "metadata": {},
   "outputs": [],
   "source": [
    "for n in i:             #making for loop to check each number in list \"i\"\n",
    "    if n%7==0:          #making an if statement to check whether the number is divisible by 7\n",
    "        if n%5!=0:      #making an if statement to check whether the number is not divisible by 5\n",
    "            m.append(n) #appending all the numbers in list \"m\" which have gone through both if statements\n",
    "            continue    #continueing the loop till the whole list"
   ]
  },
  {
   "cell_type": "markdown",
   "metadata": {},
   "source": [
    "Below is the answer for the first task. All the numbers between 2000 and 3200 which are divisible by 7 but not by 5, printed in a comma-seperated sequence."
   ]
  },
  {
   "cell_type": "code",
   "execution_count": 131,
   "metadata": {},
   "outputs": [
    {
     "name": "stdout",
     "output_type": "stream",
     "text": [
      "[2002, 2009, 2016, 2023, 2037, 2044, 2051, 2058, 2072, 2079, 2086, 2093, 2107, 2114, 2121, 2128, 2142, 2149, 2156, 2163, 2177, 2184, 2191, 2198, 2212, 2219, 2226, 2233, 2247, 2254, 2261, 2268, 2282, 2289, 2296, 2303, 2317, 2324, 2331, 2338, 2352, 2359, 2366, 2373, 2387, 2394, 2401, 2408, 2422, 2429, 2436, 2443, 2457, 2464, 2471, 2478, 2492, 2499, 2506, 2513, 2527, 2534, 2541, 2548, 2562, 2569, 2576, 2583, 2597, 2604, 2611, 2618, 2632, 2639, 2646, 2653, 2667, 2674, 2681, 2688, 2702, 2709, 2716, 2723, 2737, 2744, 2751, 2758, 2772, 2779, 2786, 2793, 2807, 2814, 2821, 2828, 2842, 2849, 2856, 2863, 2877, 2884, 2891, 2898, 2912, 2919, 2926, 2933, 2947, 2954, 2961, 2968, 2982, 2989, 2996, 3003, 3017, 3024, 3031, 3038, 3052, 3059, 3066, 3073, 3087, 3094, 3101, 3108, 3122, 3129, 3136, 3143, 3157, 3164, 3171, 3178, 3192, 3199]\n"
     ]
    },
    {
     "data": {
      "text/plain": [
       "138"
      ]
     },
     "execution_count": 131,
     "metadata": {},
     "output_type": "execute_result"
    }
   ],
   "source": [
    "print(m)  #printing the list \"m\"\n",
    "len(m)    #printing the length of list \"m\""
   ]
  },
  {
   "cell_type": "markdown",
   "metadata": {},
   "source": [
    "2. Write a Python program to accept the user's first and last name and then getting them\n",
    "printed in the the reverse order with a space between first name and last name.\n"
   ]
  },
  {
   "cell_type": "markdown",
   "metadata": {},
   "source": [
    "Answer: Here, the task is to write a program which accepts user's first name and last name and prints them in reverse order with space between the first name and the last name. So, first the first name and last name were accepted by the input function and both of them were included in string \"Name\". Then the \"Name\" string was printed. And with the slicing and indexing the string \"Name\" was printed in reverse order."
   ]
  },
  {
   "cell_type": "code",
   "execution_count": 132,
   "metadata": {},
   "outputs": [
    {
     "name": "stdout",
     "output_type": "stream",
     "text": [
      "Enter your first name here-Vishv\n",
      "Enter your last name here-Patel\n",
      "Vishv Patel\n"
     ]
    }
   ],
   "source": [
    "First_name = input(\"Enter your first name here-\", ) #Accepting First_name in with the help of \"input\" function\n",
    "Last_name = input(\"Enter your last name here-\", )   #Accepting Last_name in with the help of \"input\" function\n",
    "Name = First_name + \" \" + Last_name                 #Adding both First_name and Last_name in string \"Name\"\n",
    "print(Name)                                         #printing string \"Name\""
   ]
  },
  {
   "cell_type": "code",
   "execution_count": 133,
   "metadata": {},
   "outputs": [
    {
     "name": "stdout",
     "output_type": "stream",
     "text": [
      "letaP vhsiV\n"
     ]
    }
   ],
   "source": [
    "Name = Name[::-1]          #Using slicing and indexing to print name in reverse order\n",
    "print(Name)"
   ]
  },
  {
   "cell_type": "markdown",
   "metadata": {},
   "source": [
    "3. Write a Python program to find the volume of a sphere with diameter 12 cm.\n",
    "Formula: V=4/3 * π * r 3"
   ]
  },
  {
   "cell_type": "markdown",
   "metadata": {},
   "source": [
    "Answer: Here, the task is to find the volume of a shere with diameter 12. So, first of all the value of \"pi\" was imported from math library, we can also assign the \"pi\" variable value of 3.12 directly without importing library math. Then, the value of diameter was accepted by input function, and then the value of variable radius was assigned in terms of diameter. And then the equation of volume was used to compute and store the value of valume of sphere in variable \"volume\". And then the value of \"volume\" printed out."
   ]
  },
  {
   "cell_type": "code",
   "execution_count": 134,
   "metadata": {},
   "outputs": [
    {
     "name": "stdout",
     "output_type": "stream",
     "text": [
      "Diameter of the Sphere in centimeter12\n",
      "The volume of the sphere is 904.7786842338603\n"
     ]
    }
   ],
   "source": [
    "from math import pi     #importing the value of pi from \"math\" library or it can be stored in variable pi(pi = 3.12).\n",
    "diameter = float(input(\"Diameter of the Sphere in centimeter\")) #Accepting the value of diameter with input function\n",
    "radius = diameter/2                      #Assigning variable raius the value in terms of diameter\n",
    "volume = 4/3*pi*(radius)**3              #computing the value of volume\n",
    "print(\"The volume of the sphere is\", volume) #printing the value of volume"
   ]
  }
 ],
 "metadata": {
  "kernelspec": {
   "display_name": "Python 3",
   "language": "python",
   "name": "python3"
  },
  "language_info": {
   "codemirror_mode": {
    "name": "ipython",
    "version": 3
   },
   "file_extension": ".py",
   "mimetype": "text/x-python",
   "name": "python",
   "nbconvert_exporter": "python",
   "pygments_lexer": "ipython3",
   "version": "3.7.4"
  }
 },
 "nbformat": 4,
 "nbformat_minor": 4
}
